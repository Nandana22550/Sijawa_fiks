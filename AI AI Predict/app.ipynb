{
 "cells": [
  {
   "cell_type": "code",
   "execution_count": 4,
   "metadata": {},
   "outputs": [],
   "source": [
    "import numpy as np\n",
    "import pandas as pd\n",
    "import matplotlib.pyplot as plt\n",
    "from sklearn.preprocessing import MinMaxScaler\n",
    "# import tensorflow\n",
    "from keras.models import load_model\n",
    "from keras import Sequential\n",
    "from tensorflow.keras.layers import LSTM, Dense\n",
    "# from tensorflow.keras.Model import Sequential, load_model"
   ]
  },
  {
   "cell_type": "code",
   "execution_count": 2,
   "metadata": {},
   "outputs": [
    {
     "data": {
      "text/html": [
       "<div>\n",
       "<style scoped>\n",
       "    .dataframe tbody tr th:only-of-type {\n",
       "        vertical-align: middle;\n",
       "    }\n",
       "\n",
       "    .dataframe tbody tr th {\n",
       "        vertical-align: top;\n",
       "    }\n",
       "\n",
       "    .dataframe thead th {\n",
       "        text-align: right;\n",
       "    }\n",
       "</style>\n",
       "<table border=\"1\" class=\"dataframe\">\n",
       "  <thead>\n",
       "    <tr style=\"text-align: right;\">\n",
       "      <th></th>\n",
       "      <th>Tanggal_Panen</th>\n",
       "      <th>Harga</th>\n",
       "    </tr>\n",
       "  </thead>\n",
       "  <tbody>\n",
       "    <tr>\n",
       "      <th>0</th>\n",
       "      <td>2015-01-13</td>\n",
       "      <td>20365</td>\n",
       "    </tr>\n",
       "    <tr>\n",
       "      <th>1</th>\n",
       "      <td>2015-01-26</td>\n",
       "      <td>20794</td>\n",
       "    </tr>\n",
       "    <tr>\n",
       "      <th>2</th>\n",
       "      <td>2015-02-09</td>\n",
       "      <td>21224</td>\n",
       "    </tr>\n",
       "    <tr>\n",
       "      <th>3</th>\n",
       "      <td>2015-02-20</td>\n",
       "      <td>21112</td>\n",
       "    </tr>\n",
       "    <tr>\n",
       "      <th>4</th>\n",
       "      <td>2015-03-06</td>\n",
       "      <td>20649</td>\n",
       "    </tr>\n",
       "    <tr>\n",
       "      <th>...</th>\n",
       "      <td>...</td>\n",
       "      <td>...</td>\n",
       "    </tr>\n",
       "    <tr>\n",
       "      <th>277</th>\n",
       "      <td>2024-03-10</td>\n",
       "      <td>10000</td>\n",
       "    </tr>\n",
       "    <tr>\n",
       "      <th>278</th>\n",
       "      <td>2024-03-23</td>\n",
       "      <td>10402</td>\n",
       "    </tr>\n",
       "    <tr>\n",
       "      <th>279</th>\n",
       "      <td>2024-04-06</td>\n",
       "      <td>11093</td>\n",
       "    </tr>\n",
       "    <tr>\n",
       "      <th>280</th>\n",
       "      <td>2024-04-17</td>\n",
       "      <td>11932</td>\n",
       "    </tr>\n",
       "    <tr>\n",
       "      <th>281</th>\n",
       "      <td>2024-04-28</td>\n",
       "      <td>11961</td>\n",
       "    </tr>\n",
       "  </tbody>\n",
       "</table>\n",
       "<p>282 rows × 2 columns</p>\n",
       "</div>"
      ],
      "text/plain": [
       "    Tanggal_Panen  Harga \n",
       "0      2015-01-13   20365\n",
       "1      2015-01-26   20794\n",
       "2      2015-02-09   21224\n",
       "3      2015-02-20   21112\n",
       "4      2015-03-06   20649\n",
       "..            ...     ...\n",
       "277    2024-03-10   10000\n",
       "278    2024-03-23   10402\n",
       "279    2024-04-06   11093\n",
       "280    2024-04-17   11932\n",
       "281    2024-04-28   11961\n",
       "\n",
       "[282 rows x 2 columns]"
      ]
     },
     "execution_count": 2,
     "metadata": {},
     "output_type": "execute_result"
    }
   ],
   "source": [
    "import pandas as pd\n",
    "\n",
    "dataset_path = \"static/dataset/Harga_Cabai_Jawa_2020_2024.csv\"\n",
    "dataframe = pd.read_csv(dataset_path)\n",
    "dataframe"
   ]
  },
  {
   "cell_type": "markdown",
   "metadata": {},
   "source": [
    "## EDA"
   ]
  },
  {
   "cell_type": "code",
   "execution_count": 3,
   "metadata": {},
   "outputs": [],
   "source": [
    "from datetime import datetime, timedelta\n",
    "\n",
    "def konversi_tanggal(jumlah_hari):\n",
    "    # Tanggal awal\n",
    "    tanggal_awal = datetime(2015, 1, 13)\n",
    "\n",
    "    # Kurangkan jumlah hari\n",
    "    tanggal_hasil = tanggal_awal - timedelta(days=jumlah_hari)\n",
    "\n",
    "    return tanggal_hasil"
   ]
  },
  {
   "cell_type": "code",
   "execution_count": 6,
   "metadata": {},
   "outputs": [
    {
     "name": "stdout",
     "output_type": "stream",
     "text": [
      "       tanggal  Harga \n",
      "0   2015-01-13   20365\n",
      "1   2015-01-26   20794\n",
      "2   2015-02-09   21224\n",
      "3   2015-02-20   21112\n",
      "4   2015-03-06   20649\n",
      "..         ...     ...\n",
      "277 2024-03-10   10000\n",
      "278 2024-03-23   10402\n",
      "279 2024-04-06   11093\n",
      "280 2024-04-17   11932\n",
      "281 2024-04-28   11961\n",
      "\n",
      "[282 rows x 2 columns]\n"
     ]
    }
   ],
   "source": [
    "\n",
    "# Select the first 660 rows\n",
    "new_df = dataframe.iloc[:660].copy()\n",
    "\n",
    "# Add a new column named 'tanggal' with converted index\n",
    "new_df.insert(0, \"tanggal\", new_df[\"Tanggal_Panen\"])\n",
    "new_df[\"tanggal\"] = pd.to_datetime(new_df[\"tanggal\"])\n",
    "\n",
    "# Drop the 'Tanggal_Panen' column\n",
    "new_df.drop(columns=[\"Tanggal_Panen\"], inplace=True)\n",
    "\n",
    "# Display the updated DataFrame\n",
    "print(new_df)\n",
    "\n"
   ]
  },
  {
   "cell_type": "markdown",
   "metadata": {},
   "source": [
    "## MODELLING"
   ]
  },
  {
   "cell_type": "code",
   "execution_count": 11,
   "metadata": {},
   "outputs": [],
   "source": [
    "# Fungsi untuk membuat dataset time series\n",
    "def create_dataset(dataset, time_steps=1):\n",
    "    X, y = [], []\n",
    "    for i in range(len(dataset) - time_steps):\n",
    "        X.append(dataset[i:(i + time_steps), 0])\n",
    "        y.append(dataset[i + time_steps, 0])\n",
    "    return np.array(X), np.array(y)"
   ]
  },
  {
   "cell_type": "code",
   "execution_count": 10,
   "metadata": {},
   "outputs": [],
   "source": [
    "# Preprocessing data\n",
    "def preprocess_data(df):\n",
    "    dataset = df['harga'].values.reshape(-1, 1)\n",
    "    scaler = MinMaxScaler(feature_range=(0, 1))\n",
    "    dataset = scaler.fit_transform(dataset)\n",
    "    return dataset, scaler"
   ]
  },
  {
   "cell_type": "code",
   "execution_count": 9,
   "metadata": {},
   "outputs": [],
   "source": [
    "# Split data into train and test sets\n",
    "def split_data(data):\n",
    "    train_size = int(len(data) * 0.7)\n",
    "    test_size = len(data) - train_size\n",
    "    train, test = data[0:train_size,:], data[train_size:len(data),:]\n",
    "    return train, test"
   ]
  },
  {
   "cell_type": "code",
   "execution_count": 8,
   "metadata": {},
   "outputs": [],
   "source": [
    "from tensorflow.keras.models import Sequential\n",
    "from tensorflow.keras.layers import LSTM, Dense\n",
    "\n",
    "def build_model(time_steps, features):\n",
    "    model = Sequential([\n",
    "        LSTM(50, return_sequences=True, input_shape=(time_steps, features)),\n",
    "        LSTM(50, return_sequences=False),\n",
    "        Dense(25),\n",
    "        Dense(1)\n",
    "    ])\n",
    "    \n",
    "    model.compile(optimizer='adam', loss='mean_squared_error')\n",
    "    \n",
    "    return model\n",
    "\n",
    "# Define jumlah time steps dan fitur\n",
    "time_steps = 30  # Ganti sesuai kebutuhan Anda\n",
    "features = 1     # Jumlah fitur dalam data, dalam kasus ini hanya harga\n",
    "\n",
    "# Buat model\n",
    "model = build_model(time_steps, features)\n"
   ]
  },
  {
   "cell_type": "code",
   "execution_count": null,
   "metadata": {},
   "outputs": [],
   "source": [
    "import pandas as pd\n",
    "from sklearn.preprocessing import MinMaxScaler\n",
    "\n",
    "def preprocess_data(df):\n",
    "    # Convert the 'Harga' column to numpy array and reshape for scaler\n",
    "    dataset = df['Harga'].values.reshape(-1, 1)\n",
    "    \n",
    "    # Initialize and fit the MinMaxScaler\n",
    "    scaler = MinMaxScaler(feature_range=(0, 1))\n",
    "    dataset = scaler.fit_transform(dataset)\n",
    "    \n",
    "    return dataset, scaler\n",
    "\n",
    "# Load dataset\n",
    "path_to_dataset = 'static/dataset/Harga_Cabai_Jawa_2020_2024.csv'  \n",
    "df = pd.read_csv(path_to_dataset)\n",
    "\n",
    "# Preprocess data\n",
    "dataset, scaler = preprocess_data(df)\n"
   ]
  },
  {
   "cell_type": "code",
   "execution_count": null,
   "metadata": {},
   "outputs": [],
   "source": [
    "# Split data\n",
    "train, test = split_data(dataset)\n",
    "\n",
    "# Create dataset for LSTM\n",
    "time_steps = 30\n",
    "X_train, y_train = create_dataset(train, time_steps)\n",
    "X_test, y_test = create_dataset(test, time_steps)\n",
    "\n",
    "# Reshape input to be [samples, time steps, features]\n",
    "X_train = np.reshape(X_train, (X_train.shape[0], X_train.shape[1], 1))\n",
    "X_test = np.reshape(X_test, (X_test.shape[0], X_test.shape[1], 1))"
   ]
  },
  {
   "cell_type": "code",
   "execution_count": 9,
   "metadata": {},
   "outputs": [
    {
     "name": "stdout",
     "output_type": "stream",
     "text": [
      "X_test or y_test is empty. Check the dataset or time_steps.\n"
     ]
    }
   ],
   "source": [
    " # Build LSTM model\n",
    "model = build_model(time_steps, 1)\n",
    "\n",
    "# Train model\n",
    "model.fit(X_train, y_train, epochs=100, batch_size=32)"
   ]
  },
  {
   "cell_type": "code",
   "execution_count": null,
   "metadata": {},
   "outputs": [],
   "source": [
    "# Evaluate model\n",
    "train_loss = model.evaluate(X_train, y_train, verbose=0)\n",
    "print('Train Loss:', train_loss)\n",
    "test_loss = model.evaluate(X_test, y_test, verbose=0)\n",
    "print('Test Loss:', test_loss)\n"
   ]
  },
  {
   "cell_type": "code",
   "execution_count": null,
   "metadata": {},
   "outputs": [],
   "source": [
    "# Predictions\n",
    "train_predict = model.predict(X_train)\n",
    "test_predict = model.predict(X_test)\n",
    "\n",
    "# Inverse transform predictions\n",
    "train_predict = scaler.inverse_transform(train_predict)\n",
    "y_train = scaler.inverse_transform([y_train])\n",
    "test_predict = scaler.inverse_transform(test_predict)\n",
    "y_test = scaler.inverse_transform([y_test])\n"
   ]
  },
  {
   "cell_type": "code",
   "execution_count": null,
   "metadata": {},
   "outputs": [],
   "source": [
    "# Plotting\n",
    "plt.plot(np.arange(0, len(y_train[0])), y_train[0], label='Actual Train Price')\n",
    "plt.plot(np.arange(time_steps, len(train_predict)+time_steps), train_predict[:,0], label='Predicted Train Price')\n",
    "plt.plot(np.arange(len(y_train[0]), len(y_train[0])+len(y_test[0])), y_test[0], label='Actual Test Price')\n",
    "plt.plot(np.arange(len(y_train[0])+time_steps, len(y_train[0])+len(test_predict)+time_steps), test_predict[:,0], label='Predicted Test Price')\n",
    "plt.xlabel('Time')\n",
    "plt.ylabel('Price')\n",
    "plt.legend()\n",
    "plt.show()"
   ]
  },
  {
   "cell_type": "code",
   "execution_count": 126,
   "metadata": {},
   "outputs": [
    {
     "name": "stdout",
     "output_type": "stream",
     "text": [
      "Model saved successfully.\n"
     ]
    }
   ],
   "source": [
    "# Save the model\n",
    "model.save(\"static/model/lstm_model.h5\")\n",
    "print(\"Model saved successfully.\")"
   ]
  },
  {
   "cell_type": "markdown",
   "metadata": {},
   "source": [
    "## TEST PREDIKSI UNTUK 7 HARI KEDEPAN"
   ]
  },
  {
   "cell_type": "code",
   "execution_count": 133,
   "metadata": {},
   "outputs": [],
   "source": [
    "# Load Model\n",
    "my_model = load_model(\"static/model/lstm_model.h5\")"
   ]
  },
  {
   "cell_type": "code",
   "execution_count": 173,
   "metadata": {},
   "outputs": [],
   "source": [
    "# Create input for prediction\n",
    "last_30_days = dataset[:30]\n",
    "X_input = np.reshape(last_30_days, (1, 30, 1))"
   ]
  },
  {
   "cell_type": "code",
   "execution_count": 175,
   "metadata": {},
   "outputs": [
    {
     "name": "stdout",
     "output_type": "stream",
     "text": [
      "1/1 [==============================] - 0s 24ms/step\n",
      "1/1 [==============================] - 0s 27ms/step\n",
      "1/1 [==============================] - 0s 27ms/step\n",
      "1/1 [==============================] - 0s 27ms/step\n",
      "1/1 [==============================] - 0s 21ms/step\n",
      "1/1 [==============================] - 0s 28ms/step\n",
      "1/1 [==============================] - 0s 36ms/step\n"
     ]
    }
   ],
   "source": [
    "# Predict for next 7 days\n",
    "predicted_prices = []\n",
    "for _ in range(7):\n",
    "    next_day_prediction = model.predict(X_input)\n",
    "    predicted_prices.append(next_day_prediction[0, 0])\n",
    "    X_input = np.append(X_input[:,1:,:], next_day_prediction.reshape(1,1,1), axis=1)\n"
   ]
  },
  {
   "cell_type": "code",
   "execution_count": 176,
   "metadata": {},
   "outputs": [
    {
     "name": "stdout",
     "output_type": "stream",
     "text": [
      "[0.4109317, 0.27892196, 0.26679745, 0.34850767, 0.3269497, 0.2606398, 0.20985527]\n"
     ]
    }
   ],
   "source": [
    "# Inverse transform predictions\n",
    "print(predicted_prices)\n",
    "predicted_prices = scaler.inverse_transform(np.array(predicted_prices).reshape(-1, 1))"
   ]
  },
  {
   "cell_type": "code",
   "execution_count": 2,
   "metadata": {},
   "outputs": [
    {
     "name": "stdout",
     "output_type": "stream",
     "text": [
      "Predicted prices for the next 7 days:\n"
     ]
    },
    {
     "ename": "NameError",
     "evalue": "name 'konversi_tanggal' is not defined",
     "output_type": "error",
     "traceback": [
      "\u001b[1;31m---------------------------------------------------------------------------\u001b[0m",
      "\u001b[1;31mNameError\u001b[0m                                 Traceback (most recent call last)",
      "Cell \u001b[1;32mIn[2], line 4\u001b[0m\n\u001b[0;32m      2\u001b[0m \u001b[38;5;28mprint\u001b[39m(\u001b[38;5;124m\"\u001b[39m\u001b[38;5;124mPredicted prices for the next 7 days:\u001b[39m\u001b[38;5;124m\"\u001b[39m)\n\u001b[0;32m      3\u001b[0m \u001b[38;5;28;01mfor\u001b[39;00m i \u001b[38;5;129;01min\u001b[39;00m \u001b[38;5;28mrange\u001b[39m(\u001b[38;5;241m7\u001b[39m):\n\u001b[1;32m----> 4\u001b[0m     tanggal_prediksi \u001b[38;5;241m=\u001b[39m \u001b[43mkonversi_tanggal\u001b[49m(i\u001b[38;5;241m+\u001b[39m\u001b[38;5;241m1\u001b[39m)\n\u001b[0;32m      5\u001b[0m     \u001b[38;5;28mprint\u001b[39m(\u001b[38;5;124mf\u001b[39m\u001b[38;5;124m\"\u001b[39m\u001b[38;5;124mDay \u001b[39m\u001b[38;5;132;01m{\u001b[39;00mtanggal_prediksi\u001b[38;5;132;01m}\u001b[39;00m\u001b[38;5;124m : $\u001b[39m\u001b[38;5;132;01m{\u001b[39;00mpredicted_prices[i][\u001b[38;5;241m0\u001b[39m]\u001b[38;5;132;01m:\u001b[39;00m\u001b[38;5;124m.2f\u001b[39m\u001b[38;5;132;01m}\u001b[39;00m\u001b[38;5;124m\"\u001b[39m)\n",
      "\u001b[1;31mNameError\u001b[0m: name 'konversi_tanggal' is not defined"
     ]
    }
   ],
   "source": [
    "# Print predicted prices\n",
    "print(\"Predicted prices for the next 7 days:\")\n",
    "for i in range(7):\n",
    "    tanggal_prediksi = konversi_tanggal(i+1)\n",
    "    print(f\"Day {tanggal_prediksi} : ${predicted_prices[i][0]:.2f}\")"
   ]
  }
 ],
 "metadata": {
  "kernelspec": {
   "display_name": "Python 3",
   "language": "python",
   "name": "python3"
  },
  "language_info": {
   "codemirror_mode": {
    "name": "ipython",
    "version": 3
   },
   "file_extension": ".py",
   "mimetype": "text/x-python",
   "name": "python",
   "nbconvert_exporter": "python",
   "pygments_lexer": "ipython3",
   "version": "3.12.0"
  }
 },
 "nbformat": 4,
 "nbformat_minor": 2
}
